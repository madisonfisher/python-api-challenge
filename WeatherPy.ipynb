{
 "cells": [
  {
   "cell_type": "code",
   "execution_count": 49,
   "metadata": {
    "scrolled": true
   },
   "outputs": [],
   "source": [
    "# Dependencies and Setup\n",
    "import matplotlib.pyplot as plt\n",
    "import pandas as pd\n",
    "import numpy as np\n",
    "import requests\n",
    "import datetime\n",
    "from scipy.stats import linregress\n",
    "\n",
    "# Import API key\n",
    "from api_keys import weather_api_key\n",
    "\n",
    "# Incorporated citipy to determine city based on latitude and longitude\n",
    "from citipy import citipy\n",
    "\n",
    "# Output File (CSV)\n",
    "output_data_file = \"output_data/cities.csv\"\n",
    "\n",
    "# Range of latitudes and longitudes\n",
    "lat_range = (-90, 90)\n",
    "lng_range = (-180, 180)"
   ]
  },
  {
   "cell_type": "markdown",
   "metadata": {},
   "source": [
    "## Generate Cities List"
   ]
  },
  {
   "cell_type": "code",
   "execution_count": 18,
   "metadata": {},
   "outputs": [
    {
     "name": "stdout",
     "output_type": "stream",
     "text": [
      "The number of cities found is 587.\n"
     ]
    }
   ],
   "source": [
    "# List for holding lat_lngs and cities\n",
    "lat_lngs = []\n",
    "cities = []\n",
    "\n",
    "# Create a set of random lat and lng combinations\n",
    "lats = np.random.uniform(lat_range[0], lat_range[1], size=1500)\n",
    "lngs = np.random.uniform(lng_range[0], lng_range[1], size=1500)\n",
    "lat_lngs = zip(lats, lngs)\n",
    "\n",
    "# Identify nearest city for each lat, lng combination\n",
    "for lat_lng in lat_lngs:\n",
    "    city = citipy.nearest_city(lat_lng[0], lat_lng[1]).city_name\n",
    "    \n",
    "    # If the city is unique, then add it to a our cities list\n",
    "    if city not in cities:\n",
    "        cities.append(city)\n",
    "\n",
    "# Print the city count to confirm sufficient count\n",
    "print(f\"The number of cities found is {len(cities)}.\")"
   ]
  },
  {
   "cell_type": "markdown",
   "metadata": {},
   "source": [
    "### Perform API Calls\n",
    "* Perform a weather check on each city using a series of successive API calls.\n",
    "* Include a print log of each city as it'sbeing processed (with the city number and city name).\n"
   ]
  },
  {
   "cell_type": "code",
   "execution_count": 14,
   "metadata": {},
   "outputs": [],
   "source": [
    "# Save config information.\n",
    "url = \"http://api.openweathermap.org/data/2.5/weather?\"\n",
    "units = \"imperial\"\n",
    "\n",
    "# Build partial query URL\n",
    "query_url = f\"{url}appid={weather_api_key}&units={units}&q=\"\n",
    "# set up lists to hold reponse info\n",
    "city_updated = []\n",
    "latitude = []\n",
    "longitude = []\n",
    "max_temp = []\n",
    "humidity = []\n",
    "cloudiness = []\n",
    "wind = []\n",
    "country = []\n",
    "date = []"
   ]
  },
  {
   "cell_type": "code",
   "execution_count": 15,
   "metadata": {},
   "outputs": [
    {
     "name": "stdout",
     "output_type": "stream",
     "text": [
      "Begining Data Retrival\n",
      "Processing record 1 of set 1 | saint george\n",
      "Processing record 2 of set 1 | rikitea\n",
      "Processing record 3 of set 1 | mataura\n",
      "Processing record 4 of set 1 | balabac\n",
      "Processing record 5 of set 1 | bredasdorp\n",
      "Processing record 6 of set 1 | ilulissat\n",
      "Processing record 7 of set 1 | salalah\n",
      "Processing record 8 of set 1 | butaritari\n",
      "Processing record 9 of set 1 | yellowknife\n",
      "The city attawapiskat was not found, trying next one.\n",
      "Processing record 10 of set 1 | puerto baquerizo moreno\n",
      "Processing record 11 of set 1 | ponta do sol\n",
      "The city tabiauea was not found, trying next one.\n",
      "Processing record 12 of set 1 | narsaq\n",
      "Processing record 13 of set 1 | avarua\n",
      "Processing record 14 of set 1 | fortuna\n",
      "Processing record 15 of set 1 | ketchikan\n",
      "Processing record 16 of set 1 | kieta\n",
      "Processing record 17 of set 1 | norman wells\n",
      "Processing record 18 of set 1 | saldanha\n",
      "Processing record 19 of set 1 | zhigansk\n",
      "Processing record 20 of set 1 | simao\n",
      "Processing record 21 of set 1 | saint-philippe\n",
      "Processing record 22 of set 1 | the valley\n",
      "Processing record 23 of set 1 | albany\n",
      "Processing record 24 of set 1 | ushuaia\n",
      "Processing record 25 of set 1 | miyako\n",
      "Processing record 26 of set 1 | ahipara\n",
      "Processing record 27 of set 1 | port alfred\n",
      "Processing record 28 of set 1 | klaksvik\n",
      "Processing record 29 of set 1 | vaini\n",
      "Processing record 30 of set 1 | hobart\n",
      "Processing record 31 of set 1 | beloha\n",
      "Processing record 32 of set 1 | cape town\n",
      "The city illoqqortoormiut was not found, trying next one.\n",
      "Processing record 33 of set 1 | bengkulu\n",
      "Processing record 34 of set 1 | berlevag\n",
      "Processing record 35 of set 1 | bermejo\n",
      "Processing record 36 of set 1 | moundou\n",
      "Processing record 37 of set 1 | alyangula\n",
      "Processing record 38 of set 1 | guaraciaba do norte\n",
      "The city grand river south east was not found, trying next one.\n",
      "Processing record 39 of set 1 | nome\n",
      "Processing record 40 of set 1 | vila velha\n",
      "The city rungata was not found, trying next one.\n",
      "Processing record 41 of set 1 | hermanus\n",
      "Processing record 42 of set 1 | puerto ayora\n",
      "Processing record 43 of set 1 | jamestown\n",
      "Processing record 44 of set 1 | sao filipe\n",
      "Processing record 45 of set 1 | namibe\n",
      "Processing record 46 of set 1 | kusti\n",
      "Processing record 47 of set 1 | lindi\n",
      "Processing record 48 of set 1 | akyab\n",
      "Processing record 49 of set 1 | bereda\n",
      "Processing record 50 of set 1 | fort nelson\n",
      "Processing record 1 of set 2 | bluff\n",
      "Processing record 2 of set 2 | labuhan\n",
      "Processing record 3 of set 2 | kapaa\n",
      "Processing record 4 of set 2 | port lincoln\n",
      "Processing record 5 of set 2 | shache\n",
      "Processing record 6 of set 2 | zaragoza\n",
      "Processing record 7 of set 2 | ambanja\n",
      "Processing record 8 of set 2 | pachino\n",
      "Processing record 9 of set 2 | severo-kurilsk\n",
      "Processing record 10 of set 2 | katsuyama\n",
      "Processing record 11 of set 2 | busselton\n",
      "Processing record 12 of set 2 | kutum\n",
      "Processing record 13 of set 2 | thompson\n",
      "The city samusu was not found, trying next one.\n",
      "Processing record 14 of set 2 | souillac\n",
      "Processing record 15 of set 2 | atuona\n",
      "Processing record 16 of set 2 | nuuk\n",
      "Processing record 17 of set 2 | bathsheba\n",
      "Processing record 18 of set 2 | kahului\n",
      "Processing record 19 of set 2 | qaanaaq\n",
      "Processing record 20 of set 2 | carnarvon\n",
      "Processing record 21 of set 2 | lebu\n",
      "The city tsihombe was not found, trying next one.\n",
      "The city amderma was not found, trying next one.\n",
      "Processing record 22 of set 2 | santa luzia\n",
      "Processing record 23 of set 2 | algiers\n",
      "Processing record 24 of set 2 | lagoa\n",
      "Processing record 25 of set 2 | araouane\n",
      "The city belushya guba was not found, trying next one.\n",
      "Processing record 26 of set 2 | yerbogachen\n",
      "Processing record 27 of set 2 | buala\n",
      "Processing record 28 of set 2 | mahebourg\n",
      "Processing record 29 of set 2 | mangrol\n",
      "Processing record 30 of set 2 | ponta delgada\n",
      "Processing record 31 of set 2 | lorengau\n",
      "Processing record 32 of set 2 | khatanga\n",
      "Processing record 33 of set 2 | port elizabeth\n",
      "Processing record 34 of set 2 | cabo san lucas\n",
      "The city mys shmidta was not found, trying next one.\n",
      "Processing record 35 of set 2 | saskylakh\n",
      "Processing record 36 of set 2 | pisco\n",
      "Processing record 37 of set 2 | grindavik\n",
      "Processing record 38 of set 2 | halifax\n",
      "Processing record 39 of set 2 | longyearbyen\n",
      "Processing record 40 of set 2 | punta arenas\n",
      "Processing record 41 of set 2 | mersing\n",
      "Processing record 42 of set 2 | kaitangata\n",
      "Processing record 43 of set 2 | newport\n",
      "Processing record 44 of set 2 | esperance\n",
      "The city nizhneyansk was not found, trying next one.\n",
      "Processing record 45 of set 2 | hithadhoo\n",
      "Processing record 46 of set 2 | airai\n",
      "The city meyungs was not found, trying next one.\n",
      "Processing record 47 of set 2 | pangnirtung\n",
      "Processing record 48 of set 2 | helena\n",
      "Processing record 49 of set 2 | asau\n",
      "Processing record 50 of set 2 | riyadh\n",
      "Processing record 1 of set 3 | pochutla\n",
      "Processing record 2 of set 3 | presidencia roque saenz pena\n",
      "Processing record 3 of set 3 | tasiilaq\n",
      "Processing record 4 of set 3 | chekhov\n",
      "Processing record 5 of set 3 | tuatapere\n",
      "Processing record 6 of set 3 | north bend\n",
      "Processing record 7 of set 3 | esso\n",
      "Processing record 8 of set 3 | port hedland\n",
      "The city taolanaro was not found, trying next one.\n",
      "Processing record 9 of set 3 | xuanhua\n",
      "Processing record 10 of set 3 | chuy\n",
      "Processing record 11 of set 3 | san cristobal\n",
      "Processing record 12 of set 3 | hasaki\n",
      "Processing record 13 of set 3 | hobyo\n",
      "Processing record 14 of set 3 | naze\n",
      "Processing record 15 of set 3 | san patricio\n",
      "Processing record 16 of set 3 | jinxi\n",
      "Processing record 17 of set 3 | alofi\n",
      "The city palabuhanratu was not found, trying next one.\n",
      "Processing record 18 of set 3 | matara\n",
      "Processing record 19 of set 3 | russellville\n",
      "Processing record 20 of set 3 | arraial do cabo\n",
      "Processing record 21 of set 3 | ajaccio\n",
      "Processing record 22 of set 3 | coquimbo\n",
      "The city solovetskiy was not found, trying next one.\n",
      "Processing record 23 of set 3 | mae chan\n",
      "Processing record 24 of set 3 | agirish\n",
      "Processing record 25 of set 3 | lake havasu city\n",
      "Processing record 26 of set 3 | plouzane\n",
      "Processing record 27 of set 3 | jinji\n",
      "Processing record 28 of set 3 | korla\n",
      "Processing record 29 of set 3 | mount isa\n",
      "Processing record 30 of set 3 | yarkovo\n",
      "Processing record 31 of set 3 | niksic\n",
      "Processing record 32 of set 3 | narasannapeta\n",
      "Processing record 33 of set 3 | phalombe\n",
      "Processing record 34 of set 3 | broken hill\n",
      "Processing record 35 of set 3 | bonavista\n",
      "Processing record 36 of set 3 | dzyhivka\n",
      "Processing record 37 of set 3 | georgetown\n",
      "Processing record 38 of set 3 | upernavik\n",
      "Processing record 39 of set 3 | new norfolk\n",
      "Processing record 40 of set 3 | la ronge\n",
      "Processing record 41 of set 3 | yagodnoye\n",
      "Processing record 42 of set 3 | udachnyy\n",
      "The city sentyabrskiy was not found, trying next one.\n",
      "Processing record 43 of set 3 | cayenne\n",
      "The city umzimvubu was not found, trying next one.\n",
      "Processing record 44 of set 3 | dubti\n",
      "Processing record 45 of set 3 | hilo\n",
      "The city barentsburg was not found, trying next one.\n",
      "Processing record 46 of set 3 | dawson creek\n",
      "Processing record 47 of set 3 | phangnga\n",
      "Processing record 48 of set 3 | chakia\n",
      "Processing record 49 of set 3 | kavieng\n",
      "Processing record 50 of set 3 | lao cai\n",
      "Processing record 1 of set 4 | cairns\n",
      "Processing record 2 of set 4 | rusape\n",
      "Processing record 3 of set 4 | codajas\n",
      "Processing record 4 of set 4 | tiksi\n",
      "Processing record 5 of set 4 | mar del plata\n",
      "Processing record 6 of set 4 | pueblo\n",
      "Processing record 7 of set 4 | reconquista\n",
      "Processing record 8 of set 4 | nanortalik\n",
      "Processing record 9 of set 4 | kankon\n",
      "Processing record 10 of set 4 | flinders\n",
      "Processing record 11 of set 4 | dikson\n",
      "Processing record 12 of set 4 | san policarpo\n",
      "Processing record 13 of set 4 | kovur\n",
      "Processing record 14 of set 4 | cherskiy\n",
      "Processing record 15 of set 4 | tual\n",
      "Processing record 16 of set 4 | katsuura\n",
      "Processing record 17 of set 4 | svetlaya\n",
      "Processing record 18 of set 4 | camacha\n",
      "Processing record 19 of set 4 | bontang\n",
      "Processing record 20 of set 4 | greystones\n",
      "Processing record 21 of set 4 | gamba\n",
      "Processing record 22 of set 4 | porto empedocle\n",
      "Processing record 23 of set 4 | pahrump\n",
      "Processing record 24 of set 4 | torbay\n",
      "Processing record 25 of set 4 | siderno\n",
      "Processing record 26 of set 4 | verkhoyansk\n"
     ]
    },
    {
     "name": "stdout",
     "output_type": "stream",
     "text": [
      "Processing record 27 of set 4 | inverness\n",
      "Processing record 28 of set 4 | barrow\n",
      "Processing record 29 of set 4 | grand-santi\n",
      "Processing record 30 of set 4 | iqaluit\n",
      "Processing record 31 of set 4 | muravlenko\n",
      "Processing record 32 of set 4 | lavrentiya\n",
      "Processing record 33 of set 4 | taos\n",
      "Processing record 34 of set 4 | opalenica\n",
      "Processing record 35 of set 4 | kutoarjo\n",
      "Processing record 36 of set 4 | naryan-mar\n",
      "Processing record 37 of set 4 | leningradskiy\n",
      "Processing record 38 of set 4 | riviere-au-renard\n",
      "Processing record 39 of set 4 | landeck\n",
      "Processing record 40 of set 4 | okakarara\n",
      "Processing record 41 of set 4 | oranjemund\n",
      "Processing record 42 of set 4 | chokurdakh\n",
      "Processing record 43 of set 4 | soe\n",
      "Processing record 44 of set 4 | palana\n",
      "Processing record 45 of set 4 | zamora\n",
      "Processing record 46 of set 4 | manacor\n",
      "The city ruatoria was not found, trying next one.\n",
      "Processing record 47 of set 4 | luancheng\n",
      "Processing record 48 of set 4 | obo\n",
      "Processing record 49 of set 4 | cidreira\n",
      "Processing record 50 of set 4 | pundaguitan\n",
      "Processing record 1 of set 5 | chicama\n",
      "Processing record 2 of set 5 | luderitz\n",
      "Processing record 3 of set 5 | bilma\n",
      "Processing record 4 of set 5 | tessalit\n",
      "Processing record 5 of set 5 | phonhong\n",
      "Processing record 6 of set 5 | morehead\n",
      "Processing record 7 of set 5 | talnakh\n",
      "Processing record 8 of set 5 | kaman\n",
      "Processing record 9 of set 5 | george town\n",
      "Processing record 10 of set 5 | pathein\n",
      "Processing record 11 of set 5 | altay\n",
      "Processing record 12 of set 5 | sioux lookout\n",
      "Processing record 13 of set 5 | faanui\n",
      "Processing record 14 of set 5 | ribeira grande\n",
      "Processing record 15 of set 5 | nosy varika\n",
      "Processing record 16 of set 5 | ostrovnoy\n",
      "Processing record 17 of set 5 | east london\n",
      "Processing record 18 of set 5 | peleduy\n",
      "The city armacao dos buzios was not found, trying next one.\n",
      "Processing record 19 of set 5 | pacific grove\n",
      "Processing record 20 of set 5 | uige\n",
      "Processing record 21 of set 5 | dodge city\n",
      "The city paiho was not found, trying next one.\n",
      "The city takob was not found, trying next one.\n",
      "Processing record 22 of set 5 | itarema\n",
      "Processing record 23 of set 5 | viseu\n",
      "Processing record 24 of set 5 | sorong\n",
      "Processing record 25 of set 5 | havre-saint-pierre\n",
      "Processing record 26 of set 5 | axim\n",
      "Processing record 27 of set 5 | tuktoyaktuk\n",
      "Processing record 28 of set 5 | talcahuano\n",
      "Processing record 29 of set 5 | petropavlovsk-kamchatskiy\n",
      "Processing record 30 of set 5 | berdigestyakh\n",
      "Processing record 31 of set 5 | yarmouth\n",
      "Processing record 32 of set 5 | tammisaari\n",
      "Processing record 33 of set 5 | bilibino\n",
      "Processing record 34 of set 5 | oussouye\n",
      "Processing record 35 of set 5 | sisimiut\n",
      "Processing record 36 of set 5 | santa fe\n",
      "Processing record 37 of set 5 | kulhudhuffushi\n",
      "Processing record 38 of set 5 | coahuayana\n",
      "Processing record 39 of set 5 | chimore\n",
      "Processing record 40 of set 5 | melun\n",
      "Processing record 41 of set 5 | te anau\n",
      "Processing record 42 of set 5 | gemena\n",
      "Processing record 43 of set 5 | tromso\n",
      "Processing record 44 of set 5 | northam\n",
      "Processing record 45 of set 5 | yerofey pavlovich\n",
      "Processing record 46 of set 5 | bambanglipuro\n",
      "Processing record 47 of set 5 | green valley\n",
      "Processing record 48 of set 5 | vestmannaeyjar\n",
      "Processing record 49 of set 5 | nabagram\n",
      "Processing record 50 of set 5 | vostok\n",
      "Processing record 1 of set 6 | bodmin\n",
      "Processing record 2 of set 6 | bethel\n",
      "Processing record 3 of set 6 | siteki\n",
      "Processing record 4 of set 6 | orda\n",
      "Processing record 5 of set 6 | provideniya\n",
      "Processing record 6 of set 6 | himare\n",
      "Processing record 7 of set 6 | salinas\n",
      "Processing record 8 of set 6 | bambous virieux\n",
      "Processing record 9 of set 6 | gravdal\n",
      "Processing record 10 of set 6 | bandarbeyla\n",
      "Processing record 11 of set 6 | lengshuijiang\n",
      "Processing record 12 of set 6 | xai-xai\n",
      "Processing record 13 of set 6 | kruisfontein\n",
      "Processing record 14 of set 6 | flin flon\n",
      "Processing record 15 of set 6 | iisalmi\n",
      "Processing record 16 of set 6 | trinidad\n",
      "Processing record 17 of set 6 | bara\n",
      "Processing record 18 of set 6 | nantucket\n",
      "Processing record 19 of set 6 | naliya\n",
      "Processing record 20 of set 6 | ekhabi\n",
      "Processing record 21 of set 6 | witu\n",
      "Processing record 22 of set 6 | chunskiy\n",
      "Processing record 23 of set 6 | neyshabur\n",
      "Processing record 24 of set 6 | auka\n",
      "Processing record 25 of set 6 | santa cruz\n",
      "Processing record 26 of set 6 | erzin\n",
      "The city tidore was not found, trying next one.\n",
      "Processing record 27 of set 6 | rancho palos verdes\n",
      "Processing record 28 of set 6 | isangel\n",
      "Processing record 29 of set 6 | mount gambier\n",
      "Processing record 30 of set 6 | luanda\n",
      "Processing record 31 of set 6 | samarai\n",
      "Processing record 32 of set 6 | durango\n",
      "Processing record 33 of set 6 | kimbe\n",
      "Processing record 34 of set 6 | tarabuco\n",
      "Processing record 35 of set 6 | shimoda\n",
      "Processing record 36 of set 6 | andenes\n",
      "Processing record 37 of set 6 | formosa do rio preto\n",
      "The city sorvag was not found, trying next one.\n",
      "Processing record 38 of set 6 | leh\n",
      "The city bargal was not found, trying next one.\n",
      "Processing record 39 of set 6 | castro\n",
      "Processing record 40 of set 6 | soyo\n",
      "Processing record 41 of set 6 | sovetskiy\n",
      "Processing record 42 of set 6 | malindi\n",
      "Processing record 43 of set 6 | lodwar\n",
      "Processing record 44 of set 6 | verkhnevilyuysk\n",
      "Processing record 45 of set 6 | dalby\n",
      "Processing record 46 of set 6 | faya\n",
      "Processing record 47 of set 6 | walvis bay\n",
      "Processing record 48 of set 6 | priargunsk\n",
      "Processing record 49 of set 6 | codrington\n",
      "Processing record 50 of set 6 | lakes entrance\n",
      "Processing record 1 of set 7 | opuwo\n",
      "The city kuche was not found, trying next one.\n",
      "Processing record 2 of set 7 | nizwa\n",
      "Processing record 3 of set 7 | camana\n",
      "The city vaitupu was not found, trying next one.\n",
      "Processing record 4 of set 7 | guerrero negro\n",
      "Processing record 5 of set 7 | fairbanks\n",
      "Processing record 6 of set 7 | puerto quijarro\n",
      "The city saleaula was not found, trying next one.\n",
      "Processing record 7 of set 7 | machaneng\n",
      "Processing record 8 of set 7 | muisne\n",
      "Processing record 9 of set 7 | dunedin\n",
      "Processing record 10 of set 7 | urumqi\n",
      "Processing record 11 of set 7 | faridpur\n",
      "Processing record 12 of set 7 | boden\n",
      "Processing record 13 of set 7 | tabuk\n",
      "Processing record 14 of set 7 | lata\n",
      "Processing record 15 of set 7 | hualmay\n",
      "Processing record 16 of set 7 | pevek\n",
      "Processing record 17 of set 7 | loreto\n",
      "Processing record 18 of set 7 | fare\n",
      "Processing record 19 of set 7 | saint-joseph\n",
      "Processing record 20 of set 7 | thunder bay\n",
      "Processing record 21 of set 7 | yulara\n",
      "Processing record 22 of set 7 | college\n",
      "Processing record 23 of set 7 | erenhot\n",
      "Processing record 24 of set 7 | tuxpan\n",
      "Processing record 25 of set 7 | nikolskoye\n",
      "The city kamenskoye was not found, trying next one.\n",
      "Processing record 26 of set 7 | sunland park\n",
      "Processing record 27 of set 7 | kodinsk\n",
      "Processing record 28 of set 7 | atar\n",
      "Processing record 29 of set 7 | jiayuguan\n",
      "Processing record 30 of set 7 | hit\n",
      "Processing record 31 of set 7 | dwarka\n",
      "Processing record 32 of set 7 | aykhal\n",
      "Processing record 33 of set 7 | sao paulo de olivenca\n",
      "Processing record 34 of set 7 | kholm\n",
      "Processing record 35 of set 7 | moose factory\n",
      "Processing record 36 of set 7 | kuah\n",
      "The city dekoa was not found, trying next one.\n",
      "Processing record 37 of set 7 | alakurtti\n",
      "Processing record 38 of set 7 | clyde river\n",
      "Processing record 39 of set 7 | logan lake\n",
      "Processing record 40 of set 7 | behshahr\n",
      "Processing record 41 of set 7 | surgut\n",
      "Processing record 42 of set 7 | port-gentil\n",
      "Processing record 43 of set 7 | uyuni\n",
      "Processing record 44 of set 7 | port moresby\n",
      "Processing record 45 of set 7 | katangli\n",
      "Processing record 46 of set 7 | rawson\n",
      "Processing record 47 of set 7 | sovetskaya gavan\n",
      "Processing record 48 of set 7 | olga\n",
      "Processing record 49 of set 7 | sola\n",
      "Processing record 50 of set 7 | bairnsdale\n",
      "Processing record 1 of set 8 | irece\n",
      "Processing record 2 of set 8 | santa rosa\n",
      "Processing record 3 of set 8 | iranshahr\n",
      "The city hunza was not found, trying next one.\n",
      "Processing record 4 of set 8 | lagos\n",
      "Processing record 5 of set 8 | bozoum\n",
      "Processing record 6 of set 8 | batticaloa\n",
      "Processing record 7 of set 8 | christchurch\n",
      "Processing record 8 of set 8 | abu samrah\n",
      "Processing record 9 of set 8 | auki\n",
      "Processing record 10 of set 8 | constitucion\n",
      "Processing record 11 of set 8 | luziania\n",
      "Processing record 12 of set 8 | big spring\n"
     ]
    },
    {
     "name": "stdout",
     "output_type": "stream",
     "text": [
      "Processing record 13 of set 8 | marathon\n",
      "Processing record 14 of set 8 | jardim\n",
      "Processing record 15 of set 8 | lompoc\n",
      "Processing record 16 of set 8 | vaasa\n",
      "Processing record 17 of set 8 | kichera\n",
      "Processing record 18 of set 8 | qasigiannguit\n",
      "Processing record 19 of set 8 | volterra\n",
      "Processing record 20 of set 8 | vila franca do campo\n",
      "Processing record 21 of set 8 | tura\n",
      "The city ngukurr was not found, trying next one.\n",
      "Processing record 22 of set 8 | apatin\n",
      "Processing record 23 of set 8 | rundu\n",
      "Processing record 24 of set 8 | rocha\n",
      "Processing record 25 of set 8 | lebyazhye\n",
      "Processing record 26 of set 8 | farsala\n",
      "Processing record 27 of set 8 | dinan\n",
      "Processing record 28 of set 8 | port macquarie\n",
      "Processing record 29 of set 8 | oroquieta\n",
      "Processing record 30 of set 8 | roald\n",
      "Processing record 31 of set 8 | ambovombe\n",
      "Processing record 32 of set 8 | altoona\n",
      "Processing record 33 of set 8 | lasa\n",
      "Processing record 34 of set 8 | karpathos\n",
      "Processing record 35 of set 8 | awjilah\n",
      "Processing record 36 of set 8 | nurota\n",
      "Processing record 37 of set 8 | shu\n",
      "Processing record 38 of set 8 | hays\n",
      "Processing record 39 of set 8 | beni suef\n",
      "Processing record 40 of set 8 | tigil\n",
      "Processing record 41 of set 8 | karla\n",
      "Processing record 42 of set 8 | bubaque\n",
      "Processing record 43 of set 8 | timmins\n",
      "Processing record 44 of set 8 | huallanca\n",
      "Processing record 45 of set 8 | ranot\n",
      "Processing record 46 of set 8 | abnub\n",
      "Processing record 47 of set 8 | geraldton\n",
      "Processing record 48 of set 8 | jinchang\n",
      "Processing record 49 of set 8 | promyshlennyy\n",
      "Processing record 50 of set 8 | nouadhibou\n",
      "Processing record 1 of set 9 | ust-maya\n",
      "Processing record 2 of set 9 | vilhena\n",
      "Processing record 3 of set 9 | kantilo\n",
      "Processing record 4 of set 9 | sorland\n",
      "Processing record 5 of set 9 | henties bay\n",
      "Processing record 6 of set 9 | dingle\n",
      "Processing record 7 of set 9 | husavik\n",
      "Processing record 8 of set 9 | bataipora\n",
      "Processing record 9 of set 9 | ridgecrest\n",
      "Processing record 10 of set 9 | komsomolskiy\n",
      "Processing record 11 of set 9 | zhangye\n",
      "Processing record 12 of set 9 | tateyama\n",
      "Processing record 13 of set 9 | hanna\n",
      "The city naftah was not found, trying next one.\n",
      "Processing record 14 of set 9 | mega\n",
      "Processing record 15 of set 9 | aripuana\n",
      "Processing record 16 of set 9 | rabinal\n",
      "Processing record 17 of set 9 | say\n",
      "Processing record 18 of set 9 | xining\n",
      "Processing record 19 of set 9 | ghanzi\n",
      "Processing record 20 of set 9 | cap malheureux\n",
      "Processing record 21 of set 9 | pitimbu\n",
      "Processing record 22 of set 9 | kaeo\n",
      "Processing record 23 of set 9 | baghdad\n",
      "The city play cu was not found, trying next one.\n",
      "Processing record 24 of set 9 | asfi\n",
      "Processing record 25 of set 9 | huilong\n",
      "Processing record 26 of set 9 | hovd\n",
      "Processing record 27 of set 9 | green river\n",
      "The city andevoranto was not found, trying next one.\n",
      "Processing record 28 of set 9 | novobirilyussy\n",
      "Processing record 29 of set 9 | mumford\n",
      "Processing record 30 of set 9 | cabedelo\n",
      "Processing record 31 of set 9 | tocopilla\n",
      "Processing record 32 of set 9 | duma\n",
      "Processing record 33 of set 9 | muroto\n",
      "Processing record 34 of set 9 | farafangana\n",
      "Processing record 35 of set 9 | ternate\n",
      "Processing record 36 of set 9 | mareeba\n",
      "Processing record 37 of set 9 | los llanos de aridane\n",
      "Processing record 38 of set 9 | hambantota\n",
      "Processing record 39 of set 9 | aransas pass\n",
      "Processing record 40 of set 9 | paamiut\n",
      "Processing record 41 of set 9 | sayyan\n",
      "Processing record 42 of set 9 | boa vista\n",
      "Processing record 43 of set 9 | miandrivazo\n",
      "Processing record 44 of set 9 | nedjo\n",
      "Processing record 45 of set 9 | zalegoshch\n",
      "Processing record 46 of set 9 | egvekinot\n",
      "Processing record 47 of set 9 | kamaishi\n",
      "Processing record 48 of set 9 | listvyagi\n",
      "Processing record 49 of set 9 | aklavik\n",
      "Processing record 50 of set 9 | jieshi\n",
      "Processing record 1 of set 10 | sainte-luce\n",
      "Processing record 2 of set 10 | chardara\n",
      "Processing record 3 of set 10 | kununurra\n",
      "Processing record 4 of set 10 | mikhaylovka\n",
      "Processing record 5 of set 10 | ponto novo\n",
      "Processing record 6 of set 10 | victoria\n",
      "Processing record 7 of set 10 | sao joao da barra\n",
      "Processing record 8 of set 10 | luan\n",
      "Processing record 9 of set 10 | marsh harbour\n",
      "Processing record 10 of set 10 | kloulklubed\n",
      "Processing record 11 of set 10 | turukhansk\n",
      "Processing record 12 of set 10 | sawtell\n",
      "The city mullaitivu was not found, trying next one.\n",
      "Processing record 13 of set 10 | panguna\n",
      "Processing record 14 of set 10 | ust-nera\n",
      "Processing record 15 of set 10 | nuevo progreso\n",
      "Processing record 16 of set 10 | ukiah\n",
      "Processing record 17 of set 10 | dauriya\n",
      "Processing record 18 of set 10 | abu dhabi\n",
      "Processing record 19 of set 10 | ambilobe\n",
      "Processing record 20 of set 10 | buraydah\n",
      "Processing record 21 of set 10 | zilair\n",
      "Processing record 22 of set 10 | eyl\n",
      "The city longlac was not found, trying next one.\n",
      "Processing record 23 of set 10 | chumikan\n",
      "Processing record 24 of set 10 | lumut\n",
      "Processing record 25 of set 10 | najran\n",
      "Processing record 26 of set 10 | sardarshahr\n",
      "The city mahadday weyne was not found, trying next one.\n",
      "Processing record 27 of set 10 | santa ines\n",
      "Processing record 28 of set 10 | barra patuca\n",
      "Processing record 29 of set 10 | kalemie\n",
      "Processing record 30 of set 10 | dubbo\n",
      "Processing record 31 of set 10 | morant bay\n",
      "Processing record 32 of set 10 | touros\n",
      "Processing record 33 of set 10 | vesele\n",
      "Processing record 34 of set 10 | hofn\n",
      "Processing record 35 of set 10 | laguna\n",
      "Processing record 36 of set 10 | turbat\n",
      "Processing record 37 of set 10 | brae\n",
      "Processing record 38 of set 10 | road town\n",
      "Processing record 39 of set 10 | saint-pierre\n",
      "Processing record 40 of set 10 | lodja\n",
      "Processing record 41 of set 10 | hisor\n",
      "Processing record 42 of set 10 | barcelos\n",
      "Processing record 43 of set 10 | buenaventura\n",
      "Processing record 44 of set 10 | envira\n",
      "Processing record 45 of set 10 | kalmunai\n",
      "Processing record 46 of set 10 | richards bay\n",
      "Processing record 47 of set 10 | chateaudun\n",
      "Processing record 48 of set 10 | el prat de llobregat\n",
      "Processing record 49 of set 10 | coruripe\n",
      "Processing record 50 of set 10 | mountain home\n",
      "Processing record 1 of set 11 | amahai\n",
      "Processing record 2 of set 11 | swan river\n",
      "Processing record 3 of set 11 | rincon\n",
      "Processing record 4 of set 11 | napa\n",
      "Processing record 5 of set 11 | vozhega\n",
      "Processing record 6 of set 11 | oparino\n",
      "Processing record 7 of set 11 | sokoni\n",
      "Processing record 8 of set 11 | nanzhang\n",
      "Processing record 9 of set 11 | kassala\n",
      "Processing record 10 of set 11 | goba\n",
      "Processing record 11 of set 11 | vanavara\n",
      "Processing record 12 of set 11 | uyemskiy\n",
      "Processing record 13 of set 11 | haines junction\n",
      "Processing record 14 of set 11 | kuryk\n",
      "Processing record 15 of set 11 | ozinki\n",
      "Processing record 16 of set 11 | zhigalovo\n",
      "Processing record 17 of set 11 | arauca\n",
      "Processing record 18 of set 11 | omsukchan\n",
      "Processing record 19 of set 11 | jarocin\n",
      "The city samalaeulu was not found, trying next one.\n",
      "Processing record 20 of set 11 | lima\n",
      "Processing record 21 of set 11 | cotonou\n",
      "Processing record 22 of set 11 | conde\n",
      "Processing record 23 of set 11 | areia branca\n",
      "Processing record 24 of set 11 | nhulunbuy\n",
      "Processing record 25 of set 11 | nazarovo\n",
      "Processing record 26 of set 11 | imbituva\n",
      "Processing record 27 of set 11 | acapulco\n",
      "Processing record 28 of set 11 | kisangani\n",
      "Processing record 29 of set 11 | segou\n",
      "The city doctor pedro p. pena was not found, trying next one.\n",
      "Processing record 30 of set 11 | lazaro cardenas\n",
      "Processing record 31 of set 11 | pouembout\n",
      "Processing record 32 of set 11 | kampot\n",
      "Processing record 33 of set 11 | ariano irpino\n",
      "Processing record 34 of set 11 | mehamn\n",
      "Processing record 35 of set 11 | villacarrillo\n",
      "Processing record 36 of set 11 | margate\n",
      "Processing record 37 of set 11 | vila\n",
      "Processing record 38 of set 11 | seymchan\n",
      "Processing record 39 of set 11 | yumen\n",
      "Processing record 40 of set 11 | sheltozero\n",
      "Processing record 41 of set 11 | sirajganj\n",
      "The city barbar was not found, trying next one.\n",
      "Processing record 42 of set 11 | esil\n",
      "Processing record 43 of set 11 | heihe\n",
      "Processing record 44 of set 11 | oistins\n",
      "Processing record 45 of set 11 | ancud\n",
      "Processing record 46 of set 11 | vallenar\n",
      "Processing record 47 of set 11 | ryotsu\n",
      "The city stamsund was not found, trying next one.\n",
      "Processing record 48 of set 11 | graaff-reinet\n",
      "Processing record 49 of set 11 | port augusta\n"
     ]
    },
    {
     "name": "stdout",
     "output_type": "stream",
     "text": [
      "Processing record 50 of set 11 | naantali\n",
      "Processing record 1 of set 12 | tautira\n",
      "Processing record 2 of set 12 | iwanai\n",
      "Processing record 3 of set 12 | mantenopolis\n",
      "Processing record 4 of set 12 | igarka\n",
      "Processing record 5 of set 12 | kungurtug\n",
      "Processing record 6 of set 12 | jumla\n",
      "Processing record 7 of set 12 | mutis\n",
      "Processing record 8 of set 12 | watertown\n",
      "Processing record 9 of set 12 | kibre mengist\n",
      "Processing record 10 of set 12 | moses lake\n",
      "Processing record 11 of set 12 | sioux falls\n",
      "Processing record 12 of set 12 | bonthe\n",
      "Processing record 13 of set 12 | togur\n",
      "Processing record 14 of set 12 | usevya\n",
      "Processing record 15 of set 12 | goderich\n",
      "Processing record 16 of set 12 | watsa\n",
      "Processing record 17 of set 12 | coihaique\n",
      "Processing record 18 of set 12 | winnemucca\n",
      "Processing record 19 of set 12 | raudeberg\n",
      "----------------\n",
      "Data Retrival Complete\n",
      "----------------\n"
     ]
    }
   ],
   "source": [
    "# Loop through the list of cities and perform a request for data on each\n",
    "print(\"Begining Data Retrival\")\n",
    "\n",
    "record = 1\n",
    "group = 1\n",
    "\n",
    "for city in cities:\n",
    "    try:\n",
    "        response = requests.get(query_url + city).json()\n",
    "        city_updated.append(response['name'])\n",
    "        latitude.append(response['coord']['lat'])\n",
    "        longitude.append(response['coord']['lon'])\n",
    "        max_temp.append(response['main']['temp_max'])\n",
    "        humidity.append(response['main']['humidity'])\n",
    "        cloudiness.append(response['clouds']['all'])\n",
    "        wind.append(response['wind']['speed'])\n",
    "        country.append(response['sys']['country'])\n",
    "        date.append(response['dt'])\n",
    "        print(f\"Processing record {record} of set {group} | {city}\")\n",
    "        record = record + 1\n",
    "        set_change = record / 51 \n",
    "        if set_change == 1:\n",
    "            group = group + 1\n",
    "            record = 1\n",
    "    except:\n",
    "        print(f\"The city {city} was not found, trying next one.\")\n",
    "    \n",
    "\n",
    "print(\"----------------\")\n",
    "print(\"Data Retrival Complete\")\n",
    "print(\"----------------\")"
   ]
  },
  {
   "cell_type": "markdown",
   "metadata": {},
   "source": [
    "### Convert Raw Data to DataFrame\n",
    "* Display the DataFrame\n",
    "* Export the city data into a .csv."
   ]
  },
  {
   "cell_type": "code",
   "execution_count": 27,
   "metadata": {},
   "outputs": [
    {
     "name": "stdout",
     "output_type": "stream",
     "text": [
      "The number of cities with weather data is 569.\n"
     ]
    }
   ],
   "source": [
    " # create a data frame from cities, lat, and temp\n",
    "weather_columns = {\n",
    "    \"City\": city_updated,\n",
    "    \"Lat\": latitude,\n",
    "    \"Long\" : longitude,\n",
    "    \"Max Temp\" : max_temp,\n",
    "    \"Humidity\" : humidity,\n",
    "    \"Cloudiness\" : cloudiness,\n",
    "    \"Wind Speed\" : wind,\n",
    "    \"Country\" : country,\n",
    "    \"Date\" : date\n",
    "}\n",
    "city_weather_df = pd.DataFrame(weather_columns)\n",
    "city_weather_df.to_csv(\"weather_data/city_weather.csv\")\n",
    "new_city = city_weather_df[\"City\"].count()\n",
    "print(f\"The number of cities with weather data is {new_city}.\")"
   ]
  },
  {
   "cell_type": "markdown",
   "metadata": {},
   "source": [
    "## Inspect the data and remove the cities where the humidity > 100%.\n",
    "----\n",
    "Skip this step if there are no cities that have humidity > 100%. "
   ]
  },
  {
   "cell_type": "code",
   "execution_count": 35,
   "metadata": {},
   "outputs": [
    {
     "name": "stdout",
     "output_type": "stream",
     "text": [
      "The max humidity is currently 100%.\n"
     ]
    }
   ],
   "source": [
    "max_humidity = city_weather_df[\"Humidity\"].max()\n",
    "print(f\"The max humidity is currently {max_humidity}%.\")"
   ]
  },
  {
   "cell_type": "code",
   "execution_count": 40,
   "metadata": {},
   "outputs": [
    {
     "name": "stdout",
     "output_type": "stream",
     "text": [
      "The new max humidity is currently 99%.\n",
      "The number of cities with weather data and have a humidity of less than 100% are 561.\n"
     ]
    }
   ],
   "source": [
    "#grab all cities that have a humidity less than 100%\n",
    "city_weather_df[\"Humidity\"].astype(float)\n",
    "clean_city_data = city_weather_df.loc[city_weather_df[\"Humidity\"] != 100, :]\n",
    "new_max_humidity = clean_city_data[\"Humidity\"].max()\n",
    "print(f\"The new max humidity is currently {new_max_humidity}%.\")\n",
    "new_city_count = clean_city_data[\"City\"].count()\n",
    "print(f\"The number of cities with weather data and have a humidity of less than 100% are {new_city_count}.\")"
   ]
  },
  {
   "cell_type": "markdown",
   "metadata": {},
   "source": [
    "# Plotting the Data\n",
    "* Use proper labeling of the plots using plot titles (including date of analysis) and axes labels.\n",
    "* Save the plotted figures as .pngs."
   ]
  },
  {
   "cell_type": "code",
   "execution_count": 75,
   "metadata": {},
   "outputs": [],
   "source": [
    "#finding the date \n",
    "thedate = datetime.datetime.utcfromtimestamp(clean_city_data[\"Date\"][0]).strftime('%y-%m-%d')"
   ]
  },
  {
   "cell_type": "markdown",
   "metadata": {},
   "source": [
    "## Temperature vs. Latitude Plot"
   ]
  },
  {
   "cell_type": "code",
   "execution_count": 69,
   "metadata": {
    "scrolled": true
   },
   "outputs": [
    {
     "data": {
      "image/png": "[encoded data removed]",
      "text/plain": [
       "<Figure size 432x288 with 1 Axes>"
      ]
     },
     "metadata": {
      "needs_background": "light"
     },
     "output_type": "display_data"
    }
   ],
   "source": [
    "plt.scatter(clean_city_data[\"Lat\"], clean_city_data[\"Max Temp\"], marker=\"o\", facecolors=\"skyblue\", edgecolors=\"black\", alpha =.5)\n",
    "plt.xlim(-90,90)\n",
    "plt.title(f\"Max Temperature vs. City Latitude {thedate}\")\n",
    "plt.xlabel(\"Latitude\")\n",
    "plt.ylabel(\"Max Temperature (*F)\")\n",
    "plt.grid()\n",
    "plt.savefig(\"weather_data/temp_latitude.png\")\n",
    "plt.show()"
   ]
  },
  {
   "cell_type": "markdown",
   "metadata": {},
   "source": [
    "The above plot of Temperature vs. Latitude is analyzing the relationship between distance from the equater and how hot a city is. This figure shows that the closer a city gets to the equater the more likely they are to be hotter."
   ]
  },
  {
   "cell_type": "markdown",
   "metadata": {},
   "source": [
    "## Humidity vs. Latitiude Plot"
   ]
  },
  {
   "cell_type": "code",
   "execution_count": 70,
   "metadata": {},
   "outputs": [
    {
     "data": {
      "image/png": "[encoded data removed]",
      "text/plain": [
       "<Figure size 432x288 with 1 Axes>"
      ]
     },
     "metadata": {
      "needs_background": "light"
     },
     "output_type": "display_data"
    }
   ],
   "source": [
    "plt.scatter(clean_city_data[\"Lat\"], clean_city_data[\"Humidity\"], marker=\"o\", facecolors=\"skyblue\", edgecolors=\"black\", alpha =.5)\n",
    "plt.xlim(-90,90)\n",
    "plt.title(f\"Humidity vs. City Latitude {thedate}\")\n",
    "plt.xlabel(\"Latitude\")\n",
    "plt.ylabel(\"Humidity (%)\")\n",
    "plt.grid()\n",
    "plt.savefig(\"weather_data/humidity_latitude.png\")\n",
    "plt.show()"
   ]
  },
  {
   "cell_type": "markdown",
   "metadata": {},
   "source": [
    "The above plot of Humidity vs. Latitude is analyzing the relationship between distance from the equater and how humid a city is. This figure shows a slight trend that the closer a city gets to the equater it is slightly more likely to be more humid."
   ]
  },
  {
   "cell_type": "markdown",
   "metadata": {},
   "source": [
    "## Cloudiness vs. Latitude Plot"
   ]
  },
  {
   "cell_type": "code",
   "execution_count": 71,
   "metadata": {},
   "outputs": [
    {
     "data": {
      "image/png": "[encoded data removed]",
      "text/plain": [
       "<Figure size 432x288 with 1 Axes>"
      ]
     },
     "metadata": {
      "needs_background": "light"
     },
     "output_type": "display_data"
    }
   ],
   "source": [
    "plt.scatter(clean_city_data[\"Lat\"], clean_city_data[\"Cloudiness\"], marker=\"o\", facecolors=\"skyblue\", edgecolors=\"black\", alpha =.5)\n",
    "plt.xlim(-90,90)\n",
    "plt.title(f\"Cloudiness vs. City Latitude {thedate}\")\n",
    "plt.xlabel(\"Latitude\")\n",
    "plt.ylabel(\"Cloudiness (%)\")\n",
    "plt.grid()\n",
    "plt.savefig(\"weather_data/cloudiness_latitude.png\")\n",
    "plt.show()"
   ]
  },
  {
   "cell_type": "markdown",
   "metadata": {},
   "source": [
    "The above plot of Cloudiness vs. Latitude is analyzing the relationship between distance from the equater and how cloudy a city is. This figure does not upon visual inspection show a trend between cloudiness and distance from the equator."
   ]
  },
  {
   "cell_type": "markdown",
   "metadata": {},
   "source": [
    "## Wind Speed vs. Latitude Plot"
   ]
  },
  {
   "cell_type": "code",
   "execution_count": 72,
   "metadata": {},
   "outputs": [
    {
     "data": {
      "image/png": "[encoded data removed]",
      "text/plain": [
       "<Figure size 432x288 with 1 Axes>"
      ]
     },
     "metadata": {
      "needs_background": "light"
     },
     "output_type": "display_data"
    }
   ],
   "source": [
    "plt.scatter(clean_city_data[\"Lat\"], clean_city_data[\"Wind Speed\"], marker=\"o\", facecolors=\"skyblue\", edgecolors=\"black\", alpha =.5)\n",
    "plt.xlim(-90,90)\n",
    "plt.title(f\"Wind Speed vs. City Latitude {thedate}\")\n",
    "plt.xlabel(\"Latitude\")\n",
    "plt.ylabel(\"Wind Speed (mph)\")\n",
    "plt.grid()\n",
    "plt.savefig(\"weather_data/wind_latitude.png\")\n",
    "plt.show()"
   ]
  },
  {
   "cell_type": "markdown",
   "metadata": {},
   "source": [
    "The above plot of Wind Speed vs. Latitude is analyzing the relationship between distance from the equater and how windy a city is. This figure does not upon visual inspection show a trend between wind speed and distance from the equator."
   ]
  },
  {
   "cell_type": "markdown",
   "metadata": {},
   "source": [
    "# Linear Regression"
   ]
  },
  {
   "cell_type": "code",
   "execution_count": null,
   "metadata": {},
   "outputs": [],
   "source": [
    "#confirmed there are no cities at 0 Latitude\n"
   ]
  },
  {
   "cell_type": "markdown",
   "metadata": {},
   "source": [
    "## Max Temp"
   ]
  },
  {
   "cell_type": "markdown",
   "metadata": {},
   "source": [
    "####  Northern Hemisphere - Max Temp vs. Latitude Linear Regression"
   ]
  },
  {
   "cell_type": "code",
   "execution_count": null,
   "metadata": {},
   "outputs": [],
   "source": [
    "\n"
   ]
  },
  {
   "cell_type": "markdown",
   "metadata": {},
   "source": [
    "####  Southern Hemisphere - Max Temp vs. Latitude Linear Regression"
   ]
  },
  {
   "cell_type": "code",
   "execution_count": null,
   "metadata": {},
   "outputs": [],
   "source": []
  },
  {
   "cell_type": "markdown",
   "metadata": {},
   "source": [
    "The above two plots of Temperature vs. Latitude "
   ]
  },
  {
   "cell_type": "markdown",
   "metadata": {},
   "source": [
    "## Humidity"
   ]
  },
  {
   "cell_type": "markdown",
   "metadata": {},
   "source": [
    "####  Northern Hemisphere - Humidity (%) vs. Latitude Linear Regression"
   ]
  },
  {
   "cell_type": "code",
   "execution_count": null,
   "metadata": {},
   "outputs": [],
   "source": []
  },
  {
   "cell_type": "markdown",
   "metadata": {},
   "source": [
    "####  Southern Hemisphere - Humidity (%) vs. Latitude Linear Regression"
   ]
  },
  {
   "cell_type": "code",
   "execution_count": null,
   "metadata": {},
   "outputs": [],
   "source": []
  },
  {
   "cell_type": "markdown",
   "metadata": {},
   "source": [
    "The above two plots of Humidity vs. Latitude "
   ]
  },
  {
   "cell_type": "markdown",
   "metadata": {},
   "source": [
    "## Cloudiness"
   ]
  },
  {
   "cell_type": "markdown",
   "metadata": {},
   "source": [
    "####  Northern Hemisphere - Cloudiness (%) vs. Latitude Linear Regression"
   ]
  },
  {
   "cell_type": "code",
   "execution_count": null,
   "metadata": {},
   "outputs": [],
   "source": []
  },
  {
   "cell_type": "markdown",
   "metadata": {},
   "source": [
    "####  Southern Hemisphere - Cloudiness (%) vs. Latitude Linear Regression"
   ]
  },
  {
   "cell_type": "code",
   "execution_count": null,
   "metadata": {},
   "outputs": [],
   "source": []
  },
  {
   "cell_type": "markdown",
   "metadata": {},
   "source": [
    "The above two plots of Cloudiness vs. Latitude "
   ]
  },
  {
   "cell_type": "markdown",
   "metadata": {},
   "source": [
    "## Wind Speed"
   ]
  },
  {
   "cell_type": "markdown",
   "metadata": {},
   "source": [
    "####  Northern Hemisphere - Wind Speed (mph) vs. Latitude Linear Regression"
   ]
  },
  {
   "cell_type": "code",
   "execution_count": null,
   "metadata": {},
   "outputs": [],
   "source": []
  },
  {
   "cell_type": "markdown",
   "metadata": {},
   "source": [
    "####  Southern Hemisphere - Wind Speed (mph) vs. Latitude Linear Regression"
   ]
  },
  {
   "cell_type": "code",
   "execution_count": null,
   "metadata": {},
   "outputs": [],
   "source": []
  },
  {
   "cell_type": "markdown",
   "metadata": {},
   "source": [
    "The above two plots of Wind Speed vs. Latitude "
   ]
  }
 ],
 "metadata": {
  "anaconda-cloud": {},
  "kernel_info": {
   "name": "python3"
  },
  "kernelspec": {
   "display_name": "Python [conda env:PythonData] *",
   "language": "python",
   "name": "conda-env-PythonData-py"
  },
  "language_info": {
   "codemirror_mode": {
    "name": "ipython",
    "version": 3
   },
   "file_extension": ".py",
   "mimetype": "text/x-python",
   "name": "python",
   "nbconvert_exporter": "python",
   "pygments_lexer": "ipython3",
   "version": "3.6.10"
  },
  "latex_envs": {
   "LaTeX_envs_menu_present": true,
   "autoclose": false,
   "autocomplete": true,
   "bibliofile": "biblio.bib",
   "cite_by": "apalike",
   "current_citInitial": 1,
   "eqLabelWithNumbers": true,
   "eqNumInitial": 1,
   "hotkeys": {
    "equation": "Ctrl-E",
    "itemize": "Ctrl-I"
   },
   "labels_anchors": false,
   "latex_user_defs": false,
   "report_style_numbering": false,
   "user_envs_cfg": false
  },
  "nteract": {
   "version": "0.12.3"
  }
 },
 "nbformat": 4,
 "nbformat_minor": 2
}
