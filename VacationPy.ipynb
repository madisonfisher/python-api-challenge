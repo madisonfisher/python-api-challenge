{
 "cells": [
  {
   "cell_type": "markdown",
   "metadata": {},
   "source": [
    "# VacationPy"
   ]
  },
  {
   "cell_type": "code",
   "execution_count": 1,
   "metadata": {},
   "outputs": [],
   "source": [
    "# Dependencies and Setup\n",
    "import matplotlib.pyplot as plt\n",
    "import pandas as pd\n",
    "import numpy as np\n",
    "import requests\n",
    "import gmaps\n",
    "import os\n",
    "import json\n",
    "\n",
    "# Import API key\n",
    "from api_keys import g_key"
   ]
  },
  {
   "cell_type": "markdown",
   "metadata": {},
   "source": [
    "### Store Weather results into DataFrame"
   ]
  },
  {
   "cell_type": "code",
   "execution_count": 2,
   "metadata": {},
   "outputs": [],
   "source": [
    "#analysis can be found in WeatherPy.ipynb\n",
    "city_weather_path = \"weather_data/city_weather.csv\"\n",
    "city_weather_df = pd.read_csv(city_weather_path)"
   ]
  },
  {
   "cell_type": "markdown",
   "metadata": {},
   "source": [
    "### Humidity Heatmap"
   ]
  },
  {
   "cell_type": "code",
   "execution_count": 3,
   "metadata": {},
   "outputs": [],
   "source": [
    "#adding in gmaps\n",
    "gmaps.configure(api_key=g_key)\n",
    "#adding cities locations as latitude and longitude\n",
    "cities = city_weather_df[[\"Lat\",\"Long\"]]\n",
    "#setting up the humidity as a number\n",
    "humidity = city_weather_df[\"Humidity\"].astype(float)"
   ]
  },
  {
   "cell_type": "code",
   "execution_count": 4,
   "metadata": {},
   "outputs": [
    {
     "data": {
      "application/vnd.jupyter.widget-view+json": {
       "model_id": "988bc59563fe40c99fe0fea97cc80a18",
       "version_major": 2,
       "version_minor": 0
      },
      "text/plain": [
       "Figure(layout=FigureLayout(height='420px'))"
      ]
     },
     "metadata": {},
     "output_type": "display_data"
    }
   ],
   "source": [
    "#creating heat map\n",
    "fig = gmaps.figure()\n",
    "#set max intensity as max humidity\n",
    "heatmap_layer = gmaps.heatmap_layer(cities, weights=humidity, dissipating=False, max_intensity=100,point_radius=1.5)\n",
    "fig.add_layer(heatmap_layer)\n",
    "fig"
   ]
  },
  {
   "cell_type": "markdown",
   "metadata": {},
   "source": [
    "### Perfect Weather Cities\n",
    "Cities that are between 70 to 80 F, low wind (below 10 mph), and no clouds."
   ]
  },
  {
   "cell_type": "code",
   "execution_count": 16,
   "metadata": {},
   "outputs": [
    {
     "name": "stdout",
     "output_type": "stream",
     "text": [
      "The number of perfect weather cities is 10.\n"
     ]
    }
   ],
   "source": [
    "best_temp_df = city_weather_df.loc[city_weather_df[\"Max Temp\"] < 78]\n",
    "best_temp_df2 = best_temp_df.loc[best_temp_df[\"Max Temp\"] > 70]\n",
    "best_temp_wind_df = best_temp_df2.loc[best_temp_df2[\"Wind Speed\"] < 10]\n",
    "best_weather_df = best_temp_wind_df.loc[best_temp_wind_df[\"Cloudiness\"] == 0]\n",
    "count_cities = best_weather_df[\"City\"].count()\n",
    "print(f'The number of perfect weather cities is {count_cities}.')"
   ]
  },
  {
   "cell_type": "markdown",
   "metadata": {},
   "source": [
    "### Hotel Map"
   ]
  },
  {
   "cell_type": "code",
   "execution_count": 17,
   "metadata": {},
   "outputs": [
    {
     "name": "stderr",
     "output_type": "stream",
     "text": [
      "/Users/Madison/opt/anaconda3/envs/PythonData/lib/python3.6/site-packages/ipykernel_launcher.py:2: SettingWithCopyWarning: \n",
      "A value is trying to be set on a copy of a slice from a DataFrame.\n",
      "Try using .loc[row_indexer,col_indexer] = value instead\n",
      "\n",
      "See the caveats in the documentation: https://pandas.pydata.org/pandas-docs/stable/user_guide/indexing.html#returning-a-view-versus-a-copy\n",
      "  \n"
     ]
    }
   ],
   "source": [
    "#added column to the dataframe\n",
    "best_weather_df[\"Hotel Name\"] =\"\"\n",
    "\n",
    "#reset dataframe index\n",
    "best_weather_df = best_weather_df.reset_index(drop=True)"
   ]
  },
  {
   "cell_type": "code",
   "execution_count": 18,
   "metadata": {},
   "outputs": [],
   "source": [
    "#base google places API link\n",
    "url = \"https://maps.googleapis.com/maps/api/place/nearbysearch/json\"\n",
    "\n",
    "#creating row counter\n",
    "x = 0\n",
    "\n",
    "for index, row in best_weather_df.iterrows():\n",
    "\n",
    "    # variable set up\n",
    "    target_lat = best_weather_df[\"Lat\"][x]\n",
    "    target_long = best_weather_df[\"Long\"][x]\n",
    "    target_coordinates = (f'{target_lat}, {target_long}')\n",
    "    target_radius = 5000\n",
    "    target_type = \"lodging\"\n",
    "\n",
    "\n",
    "    # parameters dictionary\n",
    "    params = {\n",
    "        \"location\": target_coordinates,\n",
    "        \"radius\": target_radius,\n",
    "        \"type\": target_type,\n",
    "        \"key\": g_key\n",
    "    }\n",
    "\n",
    "    #request\n",
    "    response = requests.get(url, params=params).json()\n",
    "    results = response[\"results\"]\n",
    "\n",
    "    #add the first hotel to the dataframe\n",
    "    best_weather_df.loc[index, 'Hotel Name'] = results[0]['name']\n",
    "    x = x + 1\n"
   ]
  },
  {
   "cell_type": "code",
   "execution_count": 19,
   "metadata": {},
   "outputs": [],
   "source": [
    "#template and added bolding\n",
    "info_box_template = \"\"\"\n",
    "<dl>\n",
    "<dt><b>Hotel Name</b></dt><dd>{Hotel Name}</dd>\n",
    "<dt><b>City</b></dt><dd>{City}</dd>\n",
    "<dt><b>Country</b></dt><dd>{Country}</dd>\n",
    "</dl>\n",
    "\"\"\"\n",
    "#combine with dataframe data\n",
    "hotel_info = [info_box_template.format(**row) for index, row in best_weather_df.iterrows()]\n",
    "locations = best_weather_df[[\"Lat\", \"Long\"]]"
   ]
  },
  {
   "cell_type": "code",
   "execution_count": 20,
   "metadata": {},
   "outputs": [
    {
     "data": {
      "application/vnd.jupyter.widget-view+json": {
       "model_id": "ceeb3a6841234e93a3cbe937bc0d4066",
       "version_major": 2,
       "version_minor": 0
      },
      "text/plain": [
       "Figure(layout=FigureLayout(height='420px'))"
      ]
     },
     "metadata": {},
     "output_type": "display_data"
    }
   ],
   "source": [
    "#creating new heat map with hotels\n",
    "fig = gmaps.figure()\n",
    "#heatmap layer from previous\n",
    "heatmap_layer = gmaps.heatmap_layer(cities, weights=humidity, dissipating=False, max_intensity=100,point_radius=1.5)\n",
    "#new hotel layer using hotel_info\n",
    "hotel_layer = gmaps.marker_layer(locations, info_box_content=hotel_info)\n",
    "#add layers and display\n",
    "fig.add_layer(heatmap_layer)\n",
    "fig.add_layer(hotel_layer)\n",
    "fig"
   ]
  },
  {
   "cell_type": "code",
   "execution_count": null,
   "metadata": {},
   "outputs": [],
   "source": []
  }
 ],
 "metadata": {
  "kernelspec": {
   "display_name": "Python [conda env:PythonData] *",
   "language": "python",
   "name": "conda-env-PythonData-py"
  },
  "language_info": {
   "codemirror_mode": {
    "name": "ipython",
    "version": 3
   },
   "file_extension": ".py",
   "mimetype": "text/x-python",
   "name": "python",
   "nbconvert_exporter": "python",
   "pygments_lexer": "ipython3",
   "version": "3.6.10"
  },
  "latex_envs": {
   "LaTeX_envs_menu_present": true,
   "autoclose": false,
   "autocomplete": true,
   "bibliofile": "biblio.bib",
   "cite_by": "apalike",
   "current_citInitial": 1,
   "eqLabelWithNumbers": true,
   "eqNumInitial": 1,
   "hotkeys": {
    "equation": "Ctrl-E",
    "itemize": "Ctrl-I"
   },
   "labels_anchors": false,
   "latex_user_defs": false,
   "report_style_numbering": false,
   "user_envs_cfg": false
  }
 },
 "nbformat": 4,
 "nbformat_minor": 4
}
