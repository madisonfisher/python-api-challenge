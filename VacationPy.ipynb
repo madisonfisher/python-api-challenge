{
 "cells": [
  {
   "cell_type": "markdown",
   "metadata": {},
   "source": [
    "# VacationPy"
   ]
  },
  {
   "cell_type": "code",
   "execution_count": 1,
   "metadata": {},
   "outputs": [],
   "source": [
    "# Dependencies and Setup\n",
    "import matplotlib.pyplot as plt\n",
    "import pandas as pd\n",
    "import numpy as np\n",
    "import requests\n",
    "import gmaps\n",
    "import os\n",
    "\n",
    "# Import API key\n",
    "from api_keys import g_key"
   ]
  },
  {
   "cell_type": "markdown",
   "metadata": {},
   "source": [
    "### Store Weather results into DataFrame"
   ]
  },
  {
   "cell_type": "code",
   "execution_count": 26,
   "metadata": {},
   "outputs": [],
   "source": [
    "#analysis can be found in WeatherPy.ipynb\n",
    "city_weather_path = \"weather_data/city_weather.csv\"\n",
    "city_weather_df = pd.read_csv(city_weather_path)"
   ]
  },
  {
   "cell_type": "markdown",
   "metadata": {},
   "source": [
    "### Humidity Heatmap"
   ]
  },
  {
   "cell_type": "code",
   "execution_count": 3,
   "metadata": {},
   "outputs": [],
   "source": [
    "#adding in gmaps\n",
    "gmaps.configure(api_key=g_key)\n",
    "#adding cities locations as latitude and longitude\n",
    "cities = city_weather_df[[\"Lat\",\"Long\"]]\n",
    "#setting up the humidity as a number\n",
    "humidity = city_weather_df[\"Humidity\"].astype(float)"
   ]
  },
  {
   "cell_type": "code",
   "execution_count": 11,
   "metadata": {},
   "outputs": [
    {
     "data": {
      "application/vnd.jupyter.widget-view+json": {
       "model_id": "089b9e3770344be09d9bd740e0816abf",
       "version_major": 2,
       "version_minor": 0
      },
      "text/plain": [
       "Figure(layout=FigureLayout(height='420px'))"
      ]
     },
     "metadata": {},
     "output_type": "display_data"
    }
   ],
   "source": [
    "#creating heat map\n",
    "fig = gmaps.figure()\n",
    "#set max intensity as max humidity\n",
    "heatmap_layer = gmaps.heatmap_layer(cities, weights=humidity, dissipating=False, max_intensity=100,point_radius=1.5)\n",
    "fig.add_layer(heatmap_layer)\n",
    "fig"
   ]
  },
  {
   "cell_type": "markdown",
   "metadata": {},
   "source": [
    "### Perfect Weather Cities\n",
    "Cities that are between 70 to 80 F, low wind (below 10 mph), and no clouds."
   ]
  },
  {
   "cell_type": "code",
   "execution_count": 24,
   "metadata": {},
   "outputs": [
    {
     "name": "stdout",
     "output_type": "stream",
     "text": [
      "The number of perfect weather cities is 13.\n"
     ]
    }
   ],
   "source": [
    "best_temp_df = city_weather_df.loc[city_weather_df[\"Max Temp\"] < 80]\n",
    "best_temp_df2 = best_temp_df.loc[best_temp_df[\"Max Temp\"] > 70]\n",
    "best_temp_wind_df = best_temp_df2.loc[best_temp_df2[\"Wind Speed\"] < 10]\n",
    "best_weather_df = best_temp_wind_df.loc[best_temp_wind_df[\"Cloudiness\"] == 0]\n",
    "count_cities = best_weather_df[\"City\"].count()\n",
    "print(f'The number of perfect weather cities is {count_cities}.')"
   ]
  },
  {
   "cell_type": "markdown",
   "metadata": {},
   "source": [
    "### Hotel Map\n",
    "* Store into variable named `hotel_df`.\n",
    "* Add a \"Hotel Name\" column to the DataFrame.\n",
    "* Set parameters to search for hotels with 5000 meters.\n",
    "* Hit the Google Places API for each city's coordinates.\n",
    "* Store the first Hotel result into the DataFrame.\n",
    "* Plot markers on top of the heatmap."
   ]
  },
  {
   "cell_type": "code",
   "execution_count": 31,
   "metadata": {},
   "outputs": [
    {
     "data": {
      "text/html": [
       "<div>\n",
       "<style scoped>\n",
       "    .dataframe tbody tr th:only-of-type {\n",
       "        vertical-align: middle;\n",
       "    }\n",
       "\n",
       "    .dataframe tbody tr th {\n",
       "        vertical-align: top;\n",
       "    }\n",
       "\n",
       "    .dataframe thead th {\n",
       "        text-align: right;\n",
       "    }\n",
       "</style>\n",
       "<table border=\"1\" class=\"dataframe\">\n",
       "  <thead>\n",
       "    <tr style=\"text-align: right;\">\n",
       "      <th></th>\n",
       "      <th>City</th>\n",
       "      <th>Lat</th>\n",
       "      <th>Long</th>\n",
       "      <th>Max Temp</th>\n",
       "      <th>Humidity</th>\n",
       "      <th>Cloudiness</th>\n",
       "      <th>Wind Speed</th>\n",
       "      <th>Country</th>\n",
       "      <th>Date</th>\n",
       "      <th>Hotel Name</th>\n",
       "    </tr>\n",
       "  </thead>\n",
       "  <tbody>\n",
       "    <tr>\n",
       "      <th>0</th>\n",
       "      <td>Sittwe</td>\n",
       "      <td>20.1500</td>\n",
       "      <td>92.9000</td>\n",
       "      <td>77.16</td>\n",
       "      <td>85</td>\n",
       "      <td>0</td>\n",
       "      <td>2.44</td>\n",
       "      <td>MM</td>\n",
       "      <td>1618872209</td>\n",
       "      <td></td>\n",
       "    </tr>\n",
       "    <tr>\n",
       "      <th>1</th>\n",
       "      <td>Presidencia Roque Sáenz Peña</td>\n",
       "      <td>-26.7852</td>\n",
       "      <td>-60.4388</td>\n",
       "      <td>71.98</td>\n",
       "      <td>60</td>\n",
       "      <td>0</td>\n",
       "      <td>6.64</td>\n",
       "      <td>AR</td>\n",
       "      <td>1618871932</td>\n",
       "      <td></td>\n",
       "    </tr>\n",
       "    <tr>\n",
       "      <th>2</th>\n",
       "      <td>Mae Chan</td>\n",
       "      <td>20.1467</td>\n",
       "      <td>99.8526</td>\n",
       "      <td>71.60</td>\n",
       "      <td>100</td>\n",
       "      <td>0</td>\n",
       "      <td>4.61</td>\n",
       "      <td>TH</td>\n",
       "      <td>1618872232</td>\n",
       "      <td></td>\n",
       "    </tr>\n",
       "    <tr>\n",
       "      <th>3</th>\n",
       "      <td>Chākia</td>\n",
       "      <td>26.4167</td>\n",
       "      <td>85.0500</td>\n",
       "      <td>77.88</td>\n",
       "      <td>16</td>\n",
       "      <td>0</td>\n",
       "      <td>2.26</td>\n",
       "      <td>IN</td>\n",
       "      <td>1618872239</td>\n",
       "      <td></td>\n",
       "    </tr>\n",
       "    <tr>\n",
       "      <th>4</th>\n",
       "      <td>Reconquista</td>\n",
       "      <td>-29.1500</td>\n",
       "      <td>-59.6500</td>\n",
       "      <td>70.14</td>\n",
       "      <td>69</td>\n",
       "      <td>0</td>\n",
       "      <td>7.25</td>\n",
       "      <td>AR</td>\n",
       "      <td>1618872242</td>\n",
       "      <td></td>\n",
       "    </tr>\n",
       "    <tr>\n",
       "      <th>5</th>\n",
       "      <td>Oussouye</td>\n",
       "      <td>12.4850</td>\n",
       "      <td>-16.5469</td>\n",
       "      <td>77.00</td>\n",
       "      <td>88</td>\n",
       "      <td>0</td>\n",
       "      <td>4.61</td>\n",
       "      <td>SN</td>\n",
       "      <td>1618872264</td>\n",
       "      <td></td>\n",
       "    </tr>\n",
       "    <tr>\n",
       "      <th>6</th>\n",
       "      <td>Santa Fe</td>\n",
       "      <td>-31.6333</td>\n",
       "      <td>-60.7000</td>\n",
       "      <td>73.99</td>\n",
       "      <td>65</td>\n",
       "      <td>0</td>\n",
       "      <td>8.48</td>\n",
       "      <td>AR</td>\n",
       "      <td>1618871994</td>\n",
       "      <td></td>\n",
       "    </tr>\n",
       "    <tr>\n",
       "      <th>7</th>\n",
       "      <td>Pitimbu</td>\n",
       "      <td>-7.4706</td>\n",
       "      <td>-34.8086</td>\n",
       "      <td>78.80</td>\n",
       "      <td>83</td>\n",
       "      <td>0</td>\n",
       "      <td>4.61</td>\n",
       "      <td>BR</td>\n",
       "      <td>1618872324</td>\n",
       "      <td></td>\n",
       "    </tr>\n",
       "    <tr>\n",
       "      <th>8</th>\n",
       "      <td>Baghdad</td>\n",
       "      <td>33.3406</td>\n",
       "      <td>44.4009</td>\n",
       "      <td>75.20</td>\n",
       "      <td>33</td>\n",
       "      <td>0</td>\n",
       "      <td>8.05</td>\n",
       "      <td>IQ</td>\n",
       "      <td>1618872296</td>\n",
       "      <td></td>\n",
       "    </tr>\n",
       "    <tr>\n",
       "      <th>9</th>\n",
       "      <td>Cabedelo</td>\n",
       "      <td>-6.9811</td>\n",
       "      <td>-34.8339</td>\n",
       "      <td>78.80</td>\n",
       "      <td>83</td>\n",
       "      <td>0</td>\n",
       "      <td>4.61</td>\n",
       "      <td>BR</td>\n",
       "      <td>1618872327</td>\n",
       "      <td></td>\n",
       "    </tr>\n",
       "    <tr>\n",
       "      <th>10</th>\n",
       "      <td>Abu Dhabi</td>\n",
       "      <td>24.4667</td>\n",
       "      <td>54.3667</td>\n",
       "      <td>75.20</td>\n",
       "      <td>78</td>\n",
       "      <td>0</td>\n",
       "      <td>5.75</td>\n",
       "      <td>AE</td>\n",
       "      <td>1618872303</td>\n",
       "      <td></td>\n",
       "    </tr>\n",
       "    <tr>\n",
       "      <th>11</th>\n",
       "      <td>Buraidah</td>\n",
       "      <td>26.3260</td>\n",
       "      <td>43.9750</td>\n",
       "      <td>73.40</td>\n",
       "      <td>35</td>\n",
       "      <td>0</td>\n",
       "      <td>4.61</td>\n",
       "      <td>SA</td>\n",
       "      <td>1618872338</td>\n",
       "      <td></td>\n",
       "    </tr>\n",
       "    <tr>\n",
       "      <th>12</th>\n",
       "      <td>Conde</td>\n",
       "      <td>-7.2597</td>\n",
       "      <td>-34.9075</td>\n",
       "      <td>78.80</td>\n",
       "      <td>83</td>\n",
       "      <td>0</td>\n",
       "      <td>4.61</td>\n",
       "      <td>BR</td>\n",
       "      <td>1618872353</td>\n",
       "      <td></td>\n",
       "    </tr>\n",
       "  </tbody>\n",
       "</table>\n",
       "</div>"
      ],
      "text/plain": [
       "                            City      Lat     Long  Max Temp  Humidity  \\\n",
       "0                         Sittwe  20.1500  92.9000     77.16        85   \n",
       "1   Presidencia Roque Sáenz Peña -26.7852 -60.4388     71.98        60   \n",
       "2                       Mae Chan  20.1467  99.8526     71.60       100   \n",
       "3                         Chākia  26.4167  85.0500     77.88        16   \n",
       "4                    Reconquista -29.1500 -59.6500     70.14        69   \n",
       "5                       Oussouye  12.4850 -16.5469     77.00        88   \n",
       "6                       Santa Fe -31.6333 -60.7000     73.99        65   \n",
       "7                        Pitimbu  -7.4706 -34.8086     78.80        83   \n",
       "8                        Baghdad  33.3406  44.4009     75.20        33   \n",
       "9                       Cabedelo  -6.9811 -34.8339     78.80        83   \n",
       "10                     Abu Dhabi  24.4667  54.3667     75.20        78   \n",
       "11                      Buraidah  26.3260  43.9750     73.40        35   \n",
       "12                         Conde  -7.2597 -34.9075     78.80        83   \n",
       "\n",
       "    Cloudiness  Wind Speed Country        Date Hotel Name  \n",
       "0            0        2.44      MM  1618872209             \n",
       "1            0        6.64      AR  1618871932             \n",
       "2            0        4.61      TH  1618872232             \n",
       "3            0        2.26      IN  1618872239             \n",
       "4            0        7.25      AR  1618872242             \n",
       "5            0        4.61      SN  1618872264             \n",
       "6            0        8.48      AR  1618871994             \n",
       "7            0        4.61      BR  1618872324             \n",
       "8            0        8.05      IQ  1618872296             \n",
       "9            0        4.61      BR  1618872327             \n",
       "10           0        5.75      AE  1618872303             \n",
       "11           0        4.61      SA  1618872338             \n",
       "12           0        4.61      BR  1618872353             "
      ]
     },
     "execution_count": 31,
     "metadata": {},
     "output_type": "execute_result"
    }
   ],
   "source": [
    "hotel_df = []\n",
    "best_weather_df[\"Hotel Name\"] =\"\"\n",
    "best_weather_df = best_weather_df.reset_index(drop=True)\n",
    "best_weather_df"
   ]
  },
  {
   "cell_type": "code",
   "execution_count": null,
   "metadata": {},
   "outputs": [],
   "source": []
  },
  {
   "cell_type": "code",
   "execution_count": null,
   "metadata": {},
   "outputs": [],
   "source": [
    "# Using the template add the hotel marks to the heatmap\n",
    "info_box_template = \"\"\"\n",
    "<dl>\n",
    "<dt>Name</dt><dd>{Hotel Name}</dd>\n",
    "<dt>City</dt><dd>{City}</dd>\n",
    "<dt>Country</dt><dd>{Country}</dd>\n",
    "</dl>\n",
    "\"\"\"\n",
    "# Store the DataFrame Row\n",
    "# NOTE: be sure to update with your DataFrame name\n",
    "hotel_info = [info_box_template.format(**row) for index, row in hotel_df.iterrows()]\n",
    "locations = hotel_df[[\"Lat\", \"Lng\"]]"
   ]
  },
  {
   "cell_type": "code",
   "execution_count": null,
   "metadata": {},
   "outputs": [],
   "source": [
    "# Add marker layer ontop of heat map\n",
    "\n",
    "\n",
    "# Display figure\n"
   ]
  },
  {
   "cell_type": "code",
   "execution_count": null,
   "metadata": {},
   "outputs": [],
   "source": []
  }
 ],
 "metadata": {
  "kernelspec": {
   "display_name": "Python [conda env:PythonData] *",
   "language": "python",
   "name": "conda-env-PythonData-py"
  },
  "language_info": {
   "codemirror_mode": {
    "name": "ipython",
    "version": 3
   },
   "file_extension": ".py",
   "mimetype": "text/x-python",
   "name": "python",
   "nbconvert_exporter": "python",
   "pygments_lexer": "ipython3",
   "version": "3.6.10"
  },
  "latex_envs": {
   "LaTeX_envs_menu_present": true,
   "autoclose": false,
   "autocomplete": true,
   "bibliofile": "biblio.bib",
   "cite_by": "apalike",
   "current_citInitial": 1,
   "eqLabelWithNumbers": true,
   "eqNumInitial": 1,
   "hotkeys": {
    "equation": "Ctrl-E",
    "itemize": "Ctrl-I"
   },
   "labels_anchors": false,
   "latex_user_defs": false,
   "report_style_numbering": false,
   "user_envs_cfg": false
  }
 },
 "nbformat": 4,
 "nbformat_minor": 4
}
